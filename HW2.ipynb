{
 "cells": [
  {
   "cell_type": "code",
   "execution_count": 7,
   "metadata": {},
   "outputs": [
    {
     "name": "stdout",
     "output_type": "stream",
     "text": [
      "First Name:mdb\n",
      "Last Name:dmr\n",
      "Age:18\n",
      "Date of Birth (Just Year):1990\n",
      "\n",
      "User's Information:\n",
      "\n",
      "mdb\n",
      "dmr\n",
      "18\n",
      "1990\n",
      "You can go out to the street\n"
     ]
    }
   ],
   "source": [
    "user=[]\n",
    "\n",
    "user.append(str(input(\"First Name:\")))\n",
    "user.append(str(input(\"Last Name:\")))\n",
    "user.append(int(input(\"Age:\")))\n",
    "user.append(str(input(\"Date of Birth (Just Year):\")))\n",
    "\n",
    "print(\"\\nUser's Information:\\n\")\n",
    "for i in range(len(user)):\n",
    "    print(user[i])\n",
    "\n",
    "if user[2]<18:\n",
    "    print(\"\\nYou can't go out because it's too dangerous\")\n",
    "else :\n",
    "    print(\"\\nYou can go out to the street\")"
   ]
  },
  {
   "cell_type": "code",
   "execution_count": null,
   "metadata": {},
   "outputs": [],
   "source": []
  }
 ],
 "metadata": {
  "kernelspec": {
   "display_name": "Python 3",
   "language": "python",
   "name": "python3"
  },
  "language_info": {
   "codemirror_mode": {
    "name": "ipython",
    "version": 3
   },
   "file_extension": ".py",
   "mimetype": "text/x-python",
   "name": "python",
   "nbconvert_exporter": "python",
   "pygments_lexer": "ipython3",
   "version": "3.7.1"
  }
 },
 "nbformat": 4,
 "nbformat_minor": 2
}
