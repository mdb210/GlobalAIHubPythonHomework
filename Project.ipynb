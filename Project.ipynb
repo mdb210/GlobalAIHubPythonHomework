{
 "cells": [
  {
   "cell_type": "code",
   "execution_count": 2,
   "metadata": {},
   "outputs": [
    {
     "name": "stdout",
     "output_type": "stream",
     "text": [
      "Welcome to Global AI Hub\n",
      "\n",
      "Please enter your name: ömer\n",
      "Please enter your surname: cengiz\n",
      "Hi ömer cengiz Welcome to Student Management System \n",
      "\n",
      "Choose available lessons from list: \n",
      "['C++ ', 'C# ', 'Java ', 'Python ', 'AI']\n",
      "How many lessons do you want to select: 3\n",
      "Please type the course you want to select: C++\n",
      "Please type the course you want to select: C#\n",
      "Please type the course you want to select: AI\n",
      "\n",
      "Your C++ course grade will be calculated\n",
      "Please enter your midterm exam grade: 82\n",
      "Please enter your final exam grade: 88\n",
      "Please enter your project grade: 90\n",
      "You get BB\n",
      "\n",
      "Your C# course grade will be calculated\n",
      "Please enter your midterm exam grade: 80\n",
      "Please enter your final exam grade: 80\n",
      "Please enter your project grade: 80\n",
      "You get BB\n",
      "\n",
      "Your AI course grade will be calculated\n",
      "Please enter your midterm exam grade: 90\n",
      "Please enter your final exam grade: 70\n",
      "Please enter your project grade: 100\n",
      "You get BB\n"
     ]
    }
   ],
   "source": [
    "print(\"Welcome to Global AI Hub Student Management System\\n\")\n",
    "\n",
    "logintry=3\n",
    "student_name=\"ömer\"\n",
    "student_surname=\"cengiz\"\n",
    "courses=[\"C++ \",\"C# \",\"Java \",\"Python \",\"AI\"]\n",
    "student_courses=[]\n",
    "midtermexamgrade=0\n",
    "finalexamgrade=0\n",
    "projectgrade=0\n",
    "coursegrade=0\n",
    "\n",
    "while logintry>0:\n",
    "    name= input(\"Please enter your name: \")\n",
    "    surname= input(\"Please enter your surname: \")\n",
    "    if(name==student_name and surname==student_surname):\n",
    "        print(\"Hi {} Welcome to Student Management System \\n\".format(name+\" \"+surname))\n",
    "        print(\"Choose available lessons from list: \")\n",
    "        print(courses)\n",
    "        \n",
    "        coursecount=int(input(\"How many lessons do you want to select: \"))\n",
    "        \n",
    "        for i in range(0,coursecount):\n",
    "            selectedcourse=input(\"Please type the course you want to select: \")\n",
    "            student_courses.append(selectedcourse)\n",
    "        \n",
    "        for i in range(len(student_courses)):\n",
    "                print(\"\\nYour {} course grade will be calculated\".format(student_courses[i]))\n",
    "                midtermexamgrade=int(input(\"Please enter your midterm exam grade: \"))\n",
    "                finalexamgrade=int(input(\"Please enter your final exam grade: \"))\n",
    "                projectgrade=int(input(\"Please enter your project grade: \"))\n",
    "                coursegrade= 0.3*midtermexamgrade+0.5*finalexamgrade+0.2*projectgrade\n",
    "                if coursegrade>90:\n",
    "                    print(\"You get AA\")               \n",
    "                elif coursegrade>70 and coursegrade<90:\n",
    "                    print(\"You get BB\")          \n",
    "                elif coursegrade>50 and coursegrade<70:\n",
    "                    print(\"You get CC\")    \n",
    "                elif coursegrade>30 and coursegrade<50:\n",
    "                    print(\"You get DD\")       \n",
    "                else:\n",
    "                    print(\"You get FF\")         \n",
    "        \n",
    "        logintry=0\n",
    "    else:\n",
    "        print(\"Your name or surname is incorrect!\")\n",
    "        logintry-=1\n",
    "        if logintry==0:\n",
    "            print(\"Please Try Again Later! \") \n",
    "\n",
    "            \n"
   ]
  },
  {
   "cell_type": "code",
   "execution_count": null,
   "metadata": {},
   "outputs": [],
   "source": []
  }
 ],
 "metadata": {
  "kernelspec": {
   "display_name": "Python 3",
   "language": "python",
   "name": "python3"
  },
  "language_info": {
   "codemirror_mode": {
    "name": "ipython",
    "version": 3
   },
   "file_extension": ".py",
   "mimetype": "text/x-python",
   "name": "python",
   "nbconvert_exporter": "python",
   "pygments_lexer": "ipython3",
   "version": "3.7.1"
  }
 },
 "nbformat": 4,
 "nbformat_minor": 2
}
