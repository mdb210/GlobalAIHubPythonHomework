{
 "cells": [
  {
   "cell_type": "code",
   "execution_count": 18,
   "metadata": {},
   "outputs": [
    {
     "name": "stdout",
     "output_type": "stream",
     "text": [
      "Bir sayı giriniz:2\n",
      "Bir ondalıklı sayı giriniz:2.5\n",
      "Bir kelime giriniz:mdb\n",
      "Bir bool değer giriniz:true\n",
      "Bir kompleks sayı giriniz: (örn. 1+2j)1+3j\n",
      "\n",
      "-----format kullanımı-------\n",
      "\n",
      "1. girdiğiniz değer 2'dir ve tipi <class 'int'>'dir\n",
      "2. girdiğiniz değer 2.5'dir ve tipi <class 'float'>'dir\n",
      "3. girdiğiniz değer mdb'dir ve tipi <class 'str'>'dir\n",
      "4. girdiğiniz değer True'dir ve tipi <class 'bool'>'dir\n",
      "5. girdiğiniz değer (1+3j)'dir ve tipi <class 'complex'>'dir\n",
      "\n",
      "-----f-string kullanımı-------\n",
      "\n",
      "0. girdiğiniz değer 2dir ve tipi <class 'int'>dir\n",
      "1. girdiğiniz değer 2.5dir ve tipi <class 'float'>dir\n",
      "2. girdiğiniz değer mdbdir ve tipi <class 'str'>dir\n",
      "3. girdiğiniz değer Truedir ve tipi <class 'bool'>dir\n",
      "4. girdiğiniz değer (1+3j)dir ve tipi <class 'complex'>dir\n"
     ]
    }
   ],
   "source": [
    "x=[]\n",
    "x.append(int(input(\"Bir sayı giriniz:\")))\n",
    "x.append(float(input(\"Bir ondalıklı sayı giriniz:\")))\n",
    "x.append(input(\"Bir kelime giriniz:\"))\n",
    "x.append(bool(input(\"Bir bool değer giriniz:\")))\n",
    "x.append(complex(input(\"Bir kompleks sayı giriniz: (örn. 1+2j)\")))\n",
    "\n",
    "print(\"\\n-----format kullanımı-------\\n\")\n",
    "\n",
    "for i in range(len(x)):\n",
    "    print(\"{}. girdiğiniz değer {}'dir ve tipi {}'dir\".format(str(i+1), str(x[i]), type(x[i])))\n",
    "    \n",
    "print(\"\\n-----f-string kullanımı-------\\n\")\n",
    "\n",
    "for i in range(len(x)):\n",
    "    print(f\"{str(i)}. girdiğiniz değer {str(x[i])}dir ve tipi {type(x[i])}dir\")"
   ]
  },
  {
   "cell_type": "code",
   "execution_count": null,
   "metadata": {},
   "outputs": [],
   "source": []
  }
 ],
 "metadata": {
  "kernelspec": {
   "display_name": "Python 3",
   "language": "python",
   "name": "python3"
  },
  "language_info": {
   "codemirror_mode": {
    "name": "ipython",
    "version": 3
   },
   "file_extension": ".py",
   "mimetype": "text/x-python",
   "name": "python",
   "nbconvert_exporter": "python",
   "pygments_lexer": "ipython3",
   "version": "3.7.1"
  }
 },
 "nbformat": 4,
 "nbformat_minor": 2
}
