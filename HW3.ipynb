{
 "cells": [
  {
   "cell_type": "code",
   "execution_count": null,
   "metadata": {},
   "outputs": [],
   "source": []
  },
  {
   "cell_type": "code",
   "execution_count": null,
   "metadata": {},
   "outputs": [],
   "source": [
    "import random\n",
    "\n",
    "print(\"Play Hangman\\n\")\n",
    "name=str(input(\"What is Your Name:\"))\n",
    "print(\"\\nWelcome {}! Let's Play!\".format(name))\n",
    "\n",
    "words=[\"apple\",\"banana\",\"mango\",\"cherry\",\"peach\",\"melon\",\"pear\",\"orange\",\"kiwi\",\"pineapple\"]\n",
    "\n",
    "print(\"\\nA random word choosen from list\\n\")\n",
    "print(\"You have 10 chance to find word. Good Luck!\")\n",
    "\n",
    "x=random.randint(0,9)\n",
    "print(\"_ \"*len(words[x]))\n"
   ]
  },
  {
   "cell_type": "code",
   "execution_count": null,
   "metadata": {},
   "outputs": [],
   "source": [
    "chance=10\n",
    "chosenstring=words[x]\n",
    "\n",
    "while chance>0:\n",
    "    cand=input(\"Write your prediction\\n\")\n",
    "    if cand==chosenstring:\n",
    "        print(\"Congratulations! You Win!\")\n",
    "        break\n",
    "    else :\n",
    "        chance-=1\n",
    "        print(\"Try again\")\n",
    "        print(\"You have {} chance remaining\".format(chance))"
   ]
  },
  {
   "cell_type": "code",
   "execution_count": null,
   "metadata": {},
   "outputs": [],
   "source": []
  }
 ],
 "metadata": {
  "kernelspec": {
   "display_name": "Python 3",
   "language": "python",
   "name": "python3"
  },
  "language_info": {
   "codemirror_mode": {
    "name": "ipython",
    "version": 3
   },
   "file_extension": ".py",
   "mimetype": "text/x-python",
   "name": "python",
   "nbconvert_exporter": "python",
   "pygments_lexer": "ipython3",
   "version": "3.7.1"
  }
 },
 "nbformat": 4,
 "nbformat_minor": 2
}
